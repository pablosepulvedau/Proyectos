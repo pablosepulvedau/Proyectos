{
  "nbformat": 4,
  "nbformat_minor": 0,
  "metadata": {
    "colab": {
      "name": "KNN Vecinos más cercanos Clientes Bancarios.ipynb",
      "provenance": []
    },
    "kernelspec": {
      "name": "python3",
      "display_name": "Python 3"
    },
    "language_info": {
      "name": "python"
    }
  },
  "cells": [
    {
      "cell_type": "markdown",
      "source": [
        "#KNN VECINOS MÁS CERCANOS\n",
        "\n",
        "---\n",
        "\n",
        "Para el análisis y creación del modelo KNN vecinos más cercanos, se ha utilizado un dataset obtenido GITHUB. (https://github.com/CodigoMaquina/code/blob/main/datos/creditos.csv), el que ha sido cargado a Google Colab.\n",
        "\n",
        "OBJETIVO\n",
        "El objetivo del proyecto, consiste en clasificar a clientes comprometidos con el pago de sus deudas en función de su edad. Estos se clasifican en buenos clientes y malos clientes.\n",
        "\n",
        "VARIABLES\n",
        "Las variables del dataset son 3, las que corresponden a:\n",
        "\n",
        "*   EDAD: Edad del cliente que solicita crédito.\n",
        "*   CRÉDITO: Monto total del crédito solicitado.\n",
        "*   CUMPLIO: Indicador que muestra si la deuda fue pagada o no (1=SI, 0= NO).\n"
      ],
      "metadata": {
        "id": "u0fNut7P0S7X"
      }
    },
    {
      "cell_type": "code",
      "execution_count": 1,
      "metadata": {
        "id": "Br3sCFlFUfNv"
      },
      "outputs": [],
      "source": [
        "# Se comienzan importando las librerias NUMPY y PANDAS para el tratamiendo de los datos.\n",
        "import numpy as np\n",
        "import pandas as pd\n",
        "# Se importa MATPLOTLIB para la creación de los gráficos.\n",
        "import matplotlib.pyplot as plt\n",
        "# Se importa SKLEARN para el preprocesamiento de los datos y la elaboración del modelo KNN.\n",
        "from sklearn import preprocessing\n",
        "from sklearn.neighbors import KNeighborsClassifier"
      ]
    },
    {
      "cell_type": "code",
      "source": [
        "# Subimos el dataset a Google Colab y a través de la función READ_CSV la cargamos al notebook.\n",
        "df = pd.read_csv('/content/drive/MyDrive/Colab Notebooks/créditos.csv')\n",
        "df"
      ],
      "metadata": {
        "colab": {
          "base_uri": "https://localhost:8080/",
          "height": 424
        },
        "id": "XOHq5y1JZBB0",
        "outputId": "d7612065-a181-48a4-d0e4-f33132ba3fbb"
      },
      "execution_count": 2,
      "outputs": [
        {
          "output_type": "execute_result",
          "data": {
            "text/plain": [
              "     edad  credito  cumplio\n",
              "0      18   363112        0\n",
              "1      19   477965        1\n",
              "2      20   239072        0\n",
              "3      22   195265        0\n",
              "4      22   482174        0\n",
              "..    ...      ...      ...\n",
              "195    55   100000        0\n",
              "196    55   523144        0\n",
              "197    55   543771        0\n",
              "198    56   285288        0\n",
              "199    57   422969        0\n",
              "\n",
              "[200 rows x 3 columns]"
            ],
            "text/html": [
              "\n",
              "  <div id=\"df-a94a0ac7-28e9-4387-b0d2-93fcfe8d74e8\">\n",
              "    <div class=\"colab-df-container\">\n",
              "      <div>\n",
              "<style scoped>\n",
              "    .dataframe tbody tr th:only-of-type {\n",
              "        vertical-align: middle;\n",
              "    }\n",
              "\n",
              "    .dataframe tbody tr th {\n",
              "        vertical-align: top;\n",
              "    }\n",
              "\n",
              "    .dataframe thead th {\n",
              "        text-align: right;\n",
              "    }\n",
              "</style>\n",
              "<table border=\"1\" class=\"dataframe\">\n",
              "  <thead>\n",
              "    <tr style=\"text-align: right;\">\n",
              "      <th></th>\n",
              "      <th>edad</th>\n",
              "      <th>credito</th>\n",
              "      <th>cumplio</th>\n",
              "    </tr>\n",
              "  </thead>\n",
              "  <tbody>\n",
              "    <tr>\n",
              "      <th>0</th>\n",
              "      <td>18</td>\n",
              "      <td>363112</td>\n",
              "      <td>0</td>\n",
              "    </tr>\n",
              "    <tr>\n",
              "      <th>1</th>\n",
              "      <td>19</td>\n",
              "      <td>477965</td>\n",
              "      <td>1</td>\n",
              "    </tr>\n",
              "    <tr>\n",
              "      <th>2</th>\n",
              "      <td>20</td>\n",
              "      <td>239072</td>\n",
              "      <td>0</td>\n",
              "    </tr>\n",
              "    <tr>\n",
              "      <th>3</th>\n",
              "      <td>22</td>\n",
              "      <td>195265</td>\n",
              "      <td>0</td>\n",
              "    </tr>\n",
              "    <tr>\n",
              "      <th>4</th>\n",
              "      <td>22</td>\n",
              "      <td>482174</td>\n",
              "      <td>0</td>\n",
              "    </tr>\n",
              "    <tr>\n",
              "      <th>...</th>\n",
              "      <td>...</td>\n",
              "      <td>...</td>\n",
              "      <td>...</td>\n",
              "    </tr>\n",
              "    <tr>\n",
              "      <th>195</th>\n",
              "      <td>55</td>\n",
              "      <td>100000</td>\n",
              "      <td>0</td>\n",
              "    </tr>\n",
              "    <tr>\n",
              "      <th>196</th>\n",
              "      <td>55</td>\n",
              "      <td>523144</td>\n",
              "      <td>0</td>\n",
              "    </tr>\n",
              "    <tr>\n",
              "      <th>197</th>\n",
              "      <td>55</td>\n",
              "      <td>543771</td>\n",
              "      <td>0</td>\n",
              "    </tr>\n",
              "    <tr>\n",
              "      <th>198</th>\n",
              "      <td>56</td>\n",
              "      <td>285288</td>\n",
              "      <td>0</td>\n",
              "    </tr>\n",
              "    <tr>\n",
              "      <th>199</th>\n",
              "      <td>57</td>\n",
              "      <td>422969</td>\n",
              "      <td>0</td>\n",
              "    </tr>\n",
              "  </tbody>\n",
              "</table>\n",
              "<p>200 rows × 3 columns</p>\n",
              "</div>\n",
              "      <button class=\"colab-df-convert\" onclick=\"convertToInteractive('df-a94a0ac7-28e9-4387-b0d2-93fcfe8d74e8')\"\n",
              "              title=\"Convert this dataframe to an interactive table.\"\n",
              "              style=\"display:none;\">\n",
              "        \n",
              "  <svg xmlns=\"http://www.w3.org/2000/svg\" height=\"24px\"viewBox=\"0 0 24 24\"\n",
              "       width=\"24px\">\n",
              "    <path d=\"M0 0h24v24H0V0z\" fill=\"none\"/>\n",
              "    <path d=\"M18.56 5.44l.94 2.06.94-2.06 2.06-.94-2.06-.94-.94-2.06-.94 2.06-2.06.94zm-11 1L8.5 8.5l.94-2.06 2.06-.94-2.06-.94L8.5 2.5l-.94 2.06-2.06.94zm10 10l.94 2.06.94-2.06 2.06-.94-2.06-.94-.94-2.06-.94 2.06-2.06.94z\"/><path d=\"M17.41 7.96l-1.37-1.37c-.4-.4-.92-.59-1.43-.59-.52 0-1.04.2-1.43.59L10.3 9.45l-7.72 7.72c-.78.78-.78 2.05 0 2.83L4 21.41c.39.39.9.59 1.41.59.51 0 1.02-.2 1.41-.59l7.78-7.78 2.81-2.81c.8-.78.8-2.07 0-2.86zM5.41 20L4 18.59l7.72-7.72 1.47 1.35L5.41 20z\"/>\n",
              "  </svg>\n",
              "      </button>\n",
              "      \n",
              "  <style>\n",
              "    .colab-df-container {\n",
              "      display:flex;\n",
              "      flex-wrap:wrap;\n",
              "      gap: 12px;\n",
              "    }\n",
              "\n",
              "    .colab-df-convert {\n",
              "      background-color: #E8F0FE;\n",
              "      border: none;\n",
              "      border-radius: 50%;\n",
              "      cursor: pointer;\n",
              "      display: none;\n",
              "      fill: #1967D2;\n",
              "      height: 32px;\n",
              "      padding: 0 0 0 0;\n",
              "      width: 32px;\n",
              "    }\n",
              "\n",
              "    .colab-df-convert:hover {\n",
              "      background-color: #E2EBFA;\n",
              "      box-shadow: 0px 1px 2px rgba(60, 64, 67, 0.3), 0px 1px 3px 1px rgba(60, 64, 67, 0.15);\n",
              "      fill: #174EA6;\n",
              "    }\n",
              "\n",
              "    [theme=dark] .colab-df-convert {\n",
              "      background-color: #3B4455;\n",
              "      fill: #D2E3FC;\n",
              "    }\n",
              "\n",
              "    [theme=dark] .colab-df-convert:hover {\n",
              "      background-color: #434B5C;\n",
              "      box-shadow: 0px 1px 3px 1px rgba(0, 0, 0, 0.15);\n",
              "      filter: drop-shadow(0px 1px 2px rgba(0, 0, 0, 0.3));\n",
              "      fill: #FFFFFF;\n",
              "    }\n",
              "  </style>\n",
              "\n",
              "      <script>\n",
              "        const buttonEl =\n",
              "          document.querySelector('#df-a94a0ac7-28e9-4387-b0d2-93fcfe8d74e8 button.colab-df-convert');\n",
              "        buttonEl.style.display =\n",
              "          google.colab.kernel.accessAllowed ? 'block' : 'none';\n",
              "\n",
              "        async function convertToInteractive(key) {\n",
              "          const element = document.querySelector('#df-a94a0ac7-28e9-4387-b0d2-93fcfe8d74e8');\n",
              "          const dataTable =\n",
              "            await google.colab.kernel.invokeFunction('convertToInteractive',\n",
              "                                                     [key], {});\n",
              "          if (!dataTable) return;\n",
              "\n",
              "          const docLinkHtml = 'Like what you see? Visit the ' +\n",
              "            '<a target=\"_blank\" href=https://colab.research.google.com/notebooks/data_table.ipynb>data table notebook</a>'\n",
              "            + ' to learn more about interactive tables.';\n",
              "          element.innerHTML = '';\n",
              "          dataTable['output_type'] = 'display_data';\n",
              "          await google.colab.output.renderOutput(dataTable, element);\n",
              "          const docLink = document.createElement('div');\n",
              "          docLink.innerHTML = docLinkHtml;\n",
              "          element.appendChild(docLink);\n",
              "        }\n",
              "      </script>\n",
              "    </div>\n",
              "  </div>\n",
              "  "
            ]
          },
          "metadata": {},
          "execution_count": 2
        }
      ]
    },
    {
      "cell_type": "code",
      "source": [
        "df.describe()"
      ],
      "metadata": {
        "colab": {
          "base_uri": "https://localhost:8080/",
          "height": 300
        },
        "id": "cemYx9JX1Mfr",
        "outputId": "85ea3c0f-55b8-49b9-e7d1-ba150acf0407"
      },
      "execution_count": 3,
      "outputs": [
        {
          "output_type": "execute_result",
          "data": {
            "text/plain": [
              "             edad        credito     cumplio\n",
              "count  200.000000     200.000000  200.000000\n",
              "mean    37.280000  289946.670000    0.835000\n",
              "std      9.148776  137945.585277    0.372112\n",
              "min     18.000000  100000.000000    0.000000\n",
              "25%     29.000000  172966.500000    1.000000\n",
              "50%     37.500000  276234.000000    1.000000\n",
              "75%     45.000000  394574.500000    1.000000\n",
              "max     57.000000  596771.000000    1.000000"
            ],
            "text/html": [
              "\n",
              "  <div id=\"df-d122259f-03b1-4ad9-8ca8-d82117ade4e4\">\n",
              "    <div class=\"colab-df-container\">\n",
              "      <div>\n",
              "<style scoped>\n",
              "    .dataframe tbody tr th:only-of-type {\n",
              "        vertical-align: middle;\n",
              "    }\n",
              "\n",
              "    .dataframe tbody tr th {\n",
              "        vertical-align: top;\n",
              "    }\n",
              "\n",
              "    .dataframe thead th {\n",
              "        text-align: right;\n",
              "    }\n",
              "</style>\n",
              "<table border=\"1\" class=\"dataframe\">\n",
              "  <thead>\n",
              "    <tr style=\"text-align: right;\">\n",
              "      <th></th>\n",
              "      <th>edad</th>\n",
              "      <th>credito</th>\n",
              "      <th>cumplio</th>\n",
              "    </tr>\n",
              "  </thead>\n",
              "  <tbody>\n",
              "    <tr>\n",
              "      <th>count</th>\n",
              "      <td>200.000000</td>\n",
              "      <td>200.000000</td>\n",
              "      <td>200.000000</td>\n",
              "    </tr>\n",
              "    <tr>\n",
              "      <th>mean</th>\n",
              "      <td>37.280000</td>\n",
              "      <td>289946.670000</td>\n",
              "      <td>0.835000</td>\n",
              "    </tr>\n",
              "    <tr>\n",
              "      <th>std</th>\n",
              "      <td>9.148776</td>\n",
              "      <td>137945.585277</td>\n",
              "      <td>0.372112</td>\n",
              "    </tr>\n",
              "    <tr>\n",
              "      <th>min</th>\n",
              "      <td>18.000000</td>\n",
              "      <td>100000.000000</td>\n",
              "      <td>0.000000</td>\n",
              "    </tr>\n",
              "    <tr>\n",
              "      <th>25%</th>\n",
              "      <td>29.000000</td>\n",
              "      <td>172966.500000</td>\n",
              "      <td>1.000000</td>\n",
              "    </tr>\n",
              "    <tr>\n",
              "      <th>50%</th>\n",
              "      <td>37.500000</td>\n",
              "      <td>276234.000000</td>\n",
              "      <td>1.000000</td>\n",
              "    </tr>\n",
              "    <tr>\n",
              "      <th>75%</th>\n",
              "      <td>45.000000</td>\n",
              "      <td>394574.500000</td>\n",
              "      <td>1.000000</td>\n",
              "    </tr>\n",
              "    <tr>\n",
              "      <th>max</th>\n",
              "      <td>57.000000</td>\n",
              "      <td>596771.000000</td>\n",
              "      <td>1.000000</td>\n",
              "    </tr>\n",
              "  </tbody>\n",
              "</table>\n",
              "</div>\n",
              "      <button class=\"colab-df-convert\" onclick=\"convertToInteractive('df-d122259f-03b1-4ad9-8ca8-d82117ade4e4')\"\n",
              "              title=\"Convert this dataframe to an interactive table.\"\n",
              "              style=\"display:none;\">\n",
              "        \n",
              "  <svg xmlns=\"http://www.w3.org/2000/svg\" height=\"24px\"viewBox=\"0 0 24 24\"\n",
              "       width=\"24px\">\n",
              "    <path d=\"M0 0h24v24H0V0z\" fill=\"none\"/>\n",
              "    <path d=\"M18.56 5.44l.94 2.06.94-2.06 2.06-.94-2.06-.94-.94-2.06-.94 2.06-2.06.94zm-11 1L8.5 8.5l.94-2.06 2.06-.94-2.06-.94L8.5 2.5l-.94 2.06-2.06.94zm10 10l.94 2.06.94-2.06 2.06-.94-2.06-.94-.94-2.06-.94 2.06-2.06.94z\"/><path d=\"M17.41 7.96l-1.37-1.37c-.4-.4-.92-.59-1.43-.59-.52 0-1.04.2-1.43.59L10.3 9.45l-7.72 7.72c-.78.78-.78 2.05 0 2.83L4 21.41c.39.39.9.59 1.41.59.51 0 1.02-.2 1.41-.59l7.78-7.78 2.81-2.81c.8-.78.8-2.07 0-2.86zM5.41 20L4 18.59l7.72-7.72 1.47 1.35L5.41 20z\"/>\n",
              "  </svg>\n",
              "      </button>\n",
              "      \n",
              "  <style>\n",
              "    .colab-df-container {\n",
              "      display:flex;\n",
              "      flex-wrap:wrap;\n",
              "      gap: 12px;\n",
              "    }\n",
              "\n",
              "    .colab-df-convert {\n",
              "      background-color: #E8F0FE;\n",
              "      border: none;\n",
              "      border-radius: 50%;\n",
              "      cursor: pointer;\n",
              "      display: none;\n",
              "      fill: #1967D2;\n",
              "      height: 32px;\n",
              "      padding: 0 0 0 0;\n",
              "      width: 32px;\n",
              "    }\n",
              "\n",
              "    .colab-df-convert:hover {\n",
              "      background-color: #E2EBFA;\n",
              "      box-shadow: 0px 1px 2px rgba(60, 64, 67, 0.3), 0px 1px 3px 1px rgba(60, 64, 67, 0.15);\n",
              "      fill: #174EA6;\n",
              "    }\n",
              "\n",
              "    [theme=dark] .colab-df-convert {\n",
              "      background-color: #3B4455;\n",
              "      fill: #D2E3FC;\n",
              "    }\n",
              "\n",
              "    [theme=dark] .colab-df-convert:hover {\n",
              "      background-color: #434B5C;\n",
              "      box-shadow: 0px 1px 3px 1px rgba(0, 0, 0, 0.15);\n",
              "      filter: drop-shadow(0px 1px 2px rgba(0, 0, 0, 0.3));\n",
              "      fill: #FFFFFF;\n",
              "    }\n",
              "  </style>\n",
              "\n",
              "      <script>\n",
              "        const buttonEl =\n",
              "          document.querySelector('#df-d122259f-03b1-4ad9-8ca8-d82117ade4e4 button.colab-df-convert');\n",
              "        buttonEl.style.display =\n",
              "          google.colab.kernel.accessAllowed ? 'block' : 'none';\n",
              "\n",
              "        async function convertToInteractive(key) {\n",
              "          const element = document.querySelector('#df-d122259f-03b1-4ad9-8ca8-d82117ade4e4');\n",
              "          const dataTable =\n",
              "            await google.colab.kernel.invokeFunction('convertToInteractive',\n",
              "                                                     [key], {});\n",
              "          if (!dataTable) return;\n",
              "\n",
              "          const docLinkHtml = 'Like what you see? Visit the ' +\n",
              "            '<a target=\"_blank\" href=https://colab.research.google.com/notebooks/data_table.ipynb>data table notebook</a>'\n",
              "            + ' to learn more about interactive tables.';\n",
              "          element.innerHTML = '';\n",
              "          dataTable['output_type'] = 'display_data';\n",
              "          await google.colab.output.renderOutput(dataTable, element);\n",
              "          const docLink = document.createElement('div');\n",
              "          docLink.innerHTML = docLinkHtml;\n",
              "          element.appendChild(docLink);\n",
              "        }\n",
              "      </script>\n",
              "    </div>\n",
              "  </div>\n",
              "  "
            ]
          },
          "metadata": {},
          "execution_count": 3
        }
      ]
    },
    {
      "cell_type": "markdown",
      "source": [
        "La variable de edad tiene una media de 37 años, y el rango se encuentra en 18 a 57 años. El crédito promedio solicitado es de 289.946, siendo el menor crédito solicitado de 100.000 y el máximo de 596.771. "
      ],
      "metadata": {
        "id": "5j-MAr_02Aal"
      }
    },
    {
      "cell_type": "code",
      "source": [
        "df.info()\n",
        "# El dataset contiene 3 columnas y 200 filas. No posee Missing Values, por lo que no requiere un tratamiento en esta ámbito."
      ],
      "metadata": {
        "colab": {
          "base_uri": "https://localhost:8080/"
        },
        "id": "GKydRUBwZDpa",
        "outputId": "ef2d9197-0138-4ee9-e863-b98145f629dd"
      },
      "execution_count": 4,
      "outputs": [
        {
          "output_type": "stream",
          "name": "stdout",
          "text": [
            "<class 'pandas.core.frame.DataFrame'>\n",
            "RangeIndex: 200 entries, 0 to 199\n",
            "Data columns (total 3 columns):\n",
            " #   Column   Non-Null Count  Dtype\n",
            "---  ------   --------------  -----\n",
            " 0   edad     200 non-null    int64\n",
            " 1   credito  200 non-null    int64\n",
            " 2   cumplio  200 non-null    int64\n",
            "dtypes: int64(3)\n",
            "memory usage: 4.8 KB\n"
          ]
        }
      ]
    },
    {
      "cell_type": "code",
      "source": [
        "# Realizamos una segmentación de clientes, agrupándolos en dos categorias: Buenos Clientes (que pagaron su crédito) y Malos Clientes (que no pagaron su crédito).\n",
        "buen_cliente = df[df[\"cumplio\"]==1]\n",
        "mal_cliente = df[df[\"cumplio\"]==0]"
      ],
      "metadata": {
        "id": "wCWl_niGxb-f"
      },
      "execution_count": 5,
      "outputs": []
    },
    {
      "cell_type": "code",
      "source": [
        "# Usando la libreria de MATPLOTLIB, se grafican ambos Dataframe para compararlos entre sí.\n",
        "plt.scatter(buen_cliente[\"edad\"], buen_cliente[\"credito\"], marker=\"o\", s=150, color=\"green\", label=\"BUEN CLIENTE\")\n",
        "\n",
        "plt.scatter(mal_cliente[\"edad\"], mal_cliente[\"credito\"], marker=\"o\", s=150, color=\"red\", label=\"MAL CLIENTE\")\n",
        "\n",
        "plt.ylabel(\"VALOR DEL CRÉDITO SOLICITADO\")\n",
        "plt.xlabel(\"EDAD\")\n",
        "plt.legend(bbox_to_anchor=(1, 0.2)) \n",
        "plt.show()"
      ],
      "metadata": {
        "colab": {
          "base_uri": "https://localhost:8080/",
          "height": 279
        },
        "id": "e6Uv5ecLxq8a",
        "outputId": "a8d5207e-7dc6-4cfc-b0e0-a6a666c76371"
      },
      "execution_count": 6,
      "outputs": [
        {
          "output_type": "display_data",
          "data": {
            "text/plain": [
              "<Figure size 432x288 with 1 Axes>"
            ],
            "image/png": "[encoded data removed]"
          },
          "metadata": {
            "needs_background": "light"
          }
        }
      ]
    },
    {
      "cell_type": "markdown",
      "source": [
        "Entre la edad de 20 a 25 años, se concentra una gran agrupación de puntos rojos correspondientes a clientes que no pagaron su deuda, esta situación se repite en la edad de 55 años aprox. Por otra parte, entre las edades de 26 a 50 años, las solicitudes de créditos bajo los 450.000 fueron ampliamente pagados."
      ],
      "metadata": {
        "id": "f6PI84C22zVz"
      }
    },
    {
      "cell_type": "markdown",
      "source": [
        "### ESCALADO DE LOS DATOS"
      ],
      "metadata": {
        "id": "lg61IErF3gI3"
      }
    },
    {
      "cell_type": "code",
      "source": [
        "# Usando la función MINMAXSCALER, se escalan los datos para reducir su variabilidad, moviendose entre 0 y 1.\n",
        "datos = df[[\"edad\", \"credito\"]]\n",
        "clase = df[\"cumplio\"]\n",
        "\n",
        "escalador = preprocessing.MinMaxScaler()\n",
        "datos = escalador.fit_transform(datos)"
      ],
      "metadata": {
        "id": "tP-_fOOOzE4m"
      },
      "execution_count": 7,
      "outputs": []
    },
    {
      "cell_type": "markdown",
      "source": [
        "### CREACIÓN DE MODELO KNN\n",
        "\n",
        "---\n",
        "\n"
      ],
      "metadata": {
        "id": "-9KNYSdzzbZT"
      }
    },
    {
      "cell_type": "code",
      "source": [
        "# Se crea el modelo con N_NEIGHBORS de 3.\n",
        "clasificador = KNeighborsClassifier(n_neighbors=3)\n",
        "clasificador.fit(datos, clase)"
      ],
      "metadata": {
        "colab": {
          "base_uri": "https://localhost:8080/"
        },
        "id": "1uvSCaY3zWQ1",
        "outputId": "cd5964ae-9d1c-42c5-8092-b6b1aa4a31e3"
      },
      "execution_count": 8,
      "outputs": [
        {
          "output_type": "execute_result",
          "data": {
            "text/plain": [
              "KNeighborsClassifier(n_neighbors=3)"
            ]
          },
          "metadata": {},
          "execution_count": 8
        }
      ]
    },
    {
      "cell_type": "markdown",
      "source": [
        "### PREDICIÓN DEL MODELO KNN\n",
        "\n",
        "####  ANÁLISIS 1. \n",
        "Cliente de 55 años, solicita un crédito de 450.000. Se desea evaluar su según el modelo encontrado, es apropiado realizar el préstamo."
      ],
      "metadata": {
        "id": "xeMtxazb4Bae"
      }
    },
    {
      "cell_type": "code",
      "source": [
        "# Se realiza una predicción para un cliente que desea solicitar un crédito, el que es clasificado según el modelo.\n",
        "edad = 55\n",
        "monto = 450000\n",
        "\n",
        "#Se debe escalar los datos del nuevo cliente para ser ingresado a la data ya escalada.\n",
        "nuevo_cliente = escalador.transform([[edad, monto]])\n",
        "\n",
        "#Calculo de clase (Paga o no paga), y su probabilidad de pertenecer a su clase.\n",
        "print(\"Clase:\", clasificador.predict(nuevo_cliente))\n",
        "print(\"Probabilidades por clase\",\n",
        "      clasificador.predict_proba(nuevo_cliente))\n",
        "\n",
        "#Se realiza un gráfico con la data escalada y los datos del nuevo solicitante.\n",
        "plt.scatter(buen_cliente[\"edad\"], buen_cliente[\"credito\"],\n",
        "            marker=\"o\", s=100, color=\"green\", label=\"BUEN CLIENTE\")\n",
        "plt.scatter(mal_cliente[\"edad\"], mal_cliente[\"credito\"],\n",
        "            marker=\"o\", s=100, color=\"red\", label=\"MAL CLIENTE\")\n",
        "plt.scatter(edad, monto, marker=\"P\", s=250, color=\"blue\", label=\"NUEVO CLIENTE\") \n",
        "plt.ylabel(\"VALOR DEL CRÉDITO SOLICITADO\")\n",
        "plt.xlabel(\"EDAD\")\n",
        "plt.legend(bbox_to_anchor=(1, 0.3))\n",
        "plt.show()"
      ],
      "metadata": {
        "colab": {
          "base_uri": "https://localhost:8080/",
          "height": 368
        },
        "id": "Vow2iIYQzkGb",
        "outputId": "f690b251-e833-4126-b8ca-50d5bd20791d"
      },
      "execution_count": 9,
      "outputs": [
        {
          "output_type": "stream",
          "name": "stdout",
          "text": [
            "Clase: [0]\n",
            "Probabilidades por clase [[0.66666667 0.33333333]]\n"
          ]
        },
        {
          "output_type": "stream",
          "name": "stderr",
          "text": [
            "/usr/local/lib/python3.7/dist-packages/sklearn/base.py:451: UserWarning: X does not have valid feature names, but MinMaxScaler was fitted with feature names\n",
            "  \"X does not have valid feature names, but\"\n"
          ]
        },
        {
          "output_type": "display_data",
          "data": {
            "text/plain": [
              "<Figure size 432x288 with 1 Axes>"
            ],
            "image/png": "[encoded data removed]"
          },
          "metadata": {
            "needs_background": "light"
          }
        }
      ]
    },
    {
      "cell_type": "markdown",
      "source": [
        "Considerando la ubicación de la etiqueta en el diagrama superior, dos de los vecinos más cercanos son malos clientes (cliente no pagador) y sólo uno es buen cliente (cliente pagador). Por lo tanto,la probabilidad de que no pague, está explicada en un 67% debido a su cercania con dos malos clientes. La probabilidad de que pague es de un 33%, explicado debido a su cercania con un vecino buen pagador. Finalmente, la clase asignada por el modelo es de 0, (no pagador), por lo que la unidad de negocio debe evaluar si el 33% encontrado es suficiente bajo sus politicas para el otorgamiento de crédito."
      ],
      "metadata": {
        "id": "lLqwp6MH7X0n"
      }
    },
    {
      "cell_type": "markdown",
      "source": [
        "#### ANALISIS 2.\n",
        "Cliente de 35 años, solicita un crédito de 250.000. Se desea evaluar su según el modelo encontrado, es apropiado realizar el préstamo."
      ],
      "metadata": {
        "id": "G75Elk8S8hsm"
      }
    },
    {
      "cell_type": "code",
      "source": [
        "# Se realiza una predicción para un cliente que desea solicitar un crédito, el que es clasificado según el modelo.\n",
        "edad = 35\n",
        "monto = 250000\n",
        "\n",
        "#Se debe escalar los datos del nuevo cliente para ser ingresado a la data ya escalada.\n",
        "nuevo_cliente = escalador.transform([[edad, monto]])\n",
        "\n",
        "#Calculo de clase (Paga o no paga), y su probabilidad de pertenecer a su clase.\n",
        "print(\"Clase:\", clasificador.predict(nuevo_cliente))\n",
        "print(\"Probabilidades por clase\",\n",
        "      clasificador.predict_proba(nuevo_cliente))\n",
        "\n",
        "#Se realiza un gráfico con la data escalada y los datos del nuevo solicitante.\n",
        "plt.scatter(buen_cliente[\"edad\"], buen_cliente[\"credito\"],\n",
        "            marker=\"o\", s=100, color=\"green\", label=\"BUEN CLIENTE\")\n",
        "plt.scatter(mal_cliente[\"edad\"], mal_cliente[\"credito\"],\n",
        "            marker=\"o\", s=100, color=\"red\", label=\"MAL CLIENTE\")\n",
        "plt.scatter(edad, monto, marker=\"P\", s=250, color=\"blue\", label=\"NUEVO CLIENTE\") \n",
        "plt.ylabel(\"VALOR DEL CRÉDITO SOLICITADO\")\n",
        "plt.xlabel(\"EDAD\")\n",
        "plt.legend(bbox_to_anchor=(1, 0.3))\n",
        "plt.show()"
      ],
      "metadata": {
        "colab": {
          "base_uri": "https://localhost:8080/",
          "height": 368
        },
        "id": "a8TCjiqm8PNV",
        "outputId": "a263acfb-da9f-4526-c41f-82b17ccff68f"
      },
      "execution_count": 10,
      "outputs": [
        {
          "output_type": "stream",
          "name": "stderr",
          "text": [
            "/usr/local/lib/python3.7/dist-packages/sklearn/base.py:451: UserWarning: X does not have valid feature names, but MinMaxScaler was fitted with feature names\n",
            "  \"X does not have valid feature names, but\"\n"
          ]
        },
        {
          "output_type": "stream",
          "name": "stdout",
          "text": [
            "Clase: [1]\n",
            "Probabilidades por clase [[0. 1.]]\n"
          ]
        },
        {
          "output_type": "display_data",
          "data": {
            "text/plain": [
              "<Figure size 432x288 with 1 Axes>"
            ],
            "image/png": "[encoded data removed]"
          },
          "metadata": {
            "needs_background": "light"
          }
        }
      ]
    },
    {
      "cell_type": "markdown",
      "source": [
        "Considerando la ubicación de la etiqueta del diagrama superior, los tres vecinos cercanos utilizados para la evaluación son buenos pagadores. Su probabilidad de clase es de 100%, por lo tanto, es muy probable que si se le asigna un crédito a este cliente lo pagará. La clase indicada por el modelo corresponde a 1, por lo que se prevee sea un buen cliente."
      ],
      "metadata": {
        "id": "EKyBeSzq89ZW"
      }
    },
    {
      "cell_type": "markdown",
      "source": [
        "### GRÁFICO SEGMENTADOR POR REGION\n",
        "\n",
        "---\n",
        "\n",
        "Se evaluan todas las posibles solicitudes que podrian realizar los clientes, para crear un gráfico que pueda resumir dichos comportamientos en un único diagrama.\n",
        "\n"
      ],
      "metadata": {
        "id": "m85XL0Bg-HbM"
      }
    },
    {
      "cell_type": "code",
      "source": [
        "#Datos de todos los posibles solicitantes\n",
        "creditos = np.array([np.arange(100000, 600010, 1000)]*43).reshape(1, -1)\n",
        "edades = np.array([np.arange(18, 61)]*501).reshape(1, -1)\n",
        "todos = pd.DataFrame(np.stack((edades, creditos), axis=2)[0],\n",
        "                     columns=[\"edad\", \"credito\"])\n",
        "\n",
        "#Escalar los datos\n",
        "nuevos_clientes = escalador.transform(todos)\n",
        "\n",
        "#Predecir todas las clases\n",
        "clases_resultantes = clasificador.predict(nuevos_clientes)\n",
        "\n",
        "#Código para graficar\n",
        "buen_cliente = todos[clases_resultantes==1]\n",
        "mal_cliente = todos[clases_resultantes==0]\n",
        "plt.scatter(buen_cliente['edad'], buen_cliente['credito'],\n",
        "            marker='o', s=100, color=\"green\", label=\"BUEN CLIENTE\")\n",
        "plt.scatter(mal_cliente[\"edad\"], mal_cliente[\"credito\"],\n",
        "            marker='o', s=100, color=\"red\", label=\"MAL CLIENTE\")\n",
        "plt.ylabel(\"VALOR DEL CRÉDITO SOLICITADO\")\n",
        "plt.xlabel(\"EDAD\")\n",
        "plt.legend(bbox_to_anchor=(1, 0.2))\n",
        "plt.show()"
      ],
      "metadata": {
        "colab": {
          "base_uri": "https://localhost:8080/",
          "height": 279
        },
        "id": "dOf81fEF0BJQ",
        "outputId": "c70db71f-f53c-4ba3-eacb-98879eaeba89"
      },
      "execution_count": 11,
      "outputs": [
        {
          "output_type": "display_data",
          "data": {
            "text/plain": [
              "<Figure size 432x288 with 1 Axes>"
            ],
            "image/png": "[encoded data removed]"
          },
          "metadata": {
            "needs_background": "light"
          }
        }
      ]
    },
    {
      "cell_type": "markdown",
      "source": [
        "CONCLUSIÓN\n",
        "---\n",
        "\n",
        "El modelo encontrado, es capaz de clasificar el comportamiento de clientes en función de su edad, en donde esta última variable resulta importante a la hora de evaluar el préstamo de un crédito bancario, representando un riesgo para el banco los clientes de 18 a 25 años que estén interesados en créditos de 100.000 a 550.000 aprox. Lo mismo ocurre con mayores de 50 años que deseen solicitar créditos sobre 180.000 aprox. La finalidad del modelo KNN es contribuir a reducir el nivel de incertidumbre que genera al banco el otorgamiento de créditos para distintos clientes, pudiendo mejorar la forma de evaluar a estos perfiles.\n"
      ],
      "metadata": {
        "id": "LRuQeEqT6Rlx"
      }
    }
  ]
}