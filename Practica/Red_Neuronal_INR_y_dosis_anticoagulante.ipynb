{
  "nbformat": 4,
  "nbformat_minor": 0,
  "metadata": {
    "colab": {
      "name": "Red Neuronal - INR y dosis anticoagulante",
      "provenance": [],
      "collapsed_sections": []
    },
    "kernelspec": {
      "name": "python3",
      "display_name": "Python 3"
    },
    "language_info": {
      "name": "python"
    }
  },
  "cells": [
    {
      "cell_type": "markdown",
      "source": [
        "RED NEURONAL\n",
        "\n",
        "---\n",
        "\n",
        "Permite calcular la dosis de anticoagulante en función del nivel\n",
        "de INR encontrado en la sangre en paciente con TACO (Anticoagulante).\n",
        "El paciente es de sexo femenino de 54 años, posee un recambio valvular aórtico realizado a los 12 años de edad. Desde el punto de vista médico, es necesario controlar periodicamente los niveles de coagulación de la sangre, para de esta forma no obstruir de coagulos la válcula cardíaca artificial que posee el paciente. Para este efecto, las variables a utilizar en este análisis son:\n",
        "*   INR (Prueba de tiempo de protrombina): el que mide el tiempo que tarda en formarse un coágulo en una muestra de sangre. Según datos históricos, su rango es de 2,39 a 5,04. Mientras que su rango esperado óptimo es de 2,5 a 4,5.\n",
        "*   DOSIS: Corresponde al anticoagulante suministrado al paciente, cuya función es regular los niveles de coagulación del paciente. Según datos históricos, su rango es desde 9 a 12 mg/semana.\n",
        "\n",
        "\n"
      ],
      "metadata": {
        "id": "OxLOVihbssEP"
      }
    },
    {
      "cell_type": "code",
      "execution_count": 105,
      "metadata": {
        "id": "iYg8y3F75Cqa"
      },
      "outputs": [],
      "source": [
        "# Se importan las librerias para realizar la red neuronal, que permitirá obtener la dosis de anticoagulante para el paciente\n",
        "import tensorflow as tf\n",
        "import numpy as np\n",
        "import matplotlib.pyplot as plt\n"
      ]
    },
    {
      "cell_type": "code",
      "source": [
        "# Se crean dos variables, INR y dosis. Ambos datos, se obtienen de registros históricos aportados por el paciente.\n",
        "# Por cada nivel de INR, se aplica una determinada dosis semanal de anticoagulante, el que se obtiene de muestras de sangre.\n",
        "# Estas muestras de sangre se realizan aproximadamente cada 1 a 2 meses. Por lo tanto, cada registro de la serie posee un tiempo promedio histórico de 1.5 meses.\n",
        "INR = np.array([2.39, 3.07, 2.85, 4.3, 4.3, 2.87, 3.05, 2.38, 3.56, 3.3, 4.49, 3.18, 3.67, 3.18, 3.28, 2.5, 5.04, 3.26], dtype=float)\n",
        "dosis = np.array([11, 10, 10, 9.33, 10.5, 12, 11, 11, 10, 10, 10, 11, 11, 11, 11, 11, 10, 11], dtype=float)\n"
      ],
      "metadata": {
        "id": "DXdfS-135qCI"
      },
      "execution_count": 106,
      "outputs": []
    },
    {
      "cell_type": "code",
      "source": [
        "# Para la creación de la red neuronal, creamos dos variables; capa y modelo. Estas variables se configuran con keras.\n",
        "capa = tf.keras.layers.Dense(units=1, input_shape=[1])\n",
        "modelo = tf.keras.Sequential([capa])"
      ],
      "metadata": {
        "id": "V7k4Ztkk7Xku"
      },
      "execution_count": 107,
      "outputs": []
    },
    {
      "cell_type": "code",
      "source": [
        "# Usando el algoritmo de ADAM, se compila el modelo a través del MSE.\n",
        "modelo.compile(\n",
        "    optimizer=tf.keras.optimizers.Adam(0.1),\n",
        "    loss=\"mean_squared_error\"\n",
        ")"
      ],
      "metadata": {
        "id": "gX4m3lne7pIW"
      },
      "execution_count": 108,
      "outputs": []
    },
    {
      "cell_type": "code",
      "source": [
        "# El entranamiento de la red neuronal, se realiza con 2000 repeticiciones.\n",
        "print(\"Comenzando entrenamiento de red neuronal...\")\n",
        "historial = modelo.fit(INR, dosis, epochs=2000, verbose=False)\n",
        "print(\"¡Modelo entrenado satisfactoriamente!\")"
      ],
      "metadata": {
        "colab": {
          "base_uri": "https://localhost:8080/"
        },
        "id": "DKT4VjtM73U2",
        "outputId": "0c2f7335-f898-44c2-e886-949c87c10960"
      },
      "execution_count": 109,
      "outputs": [
        {
          "output_type": "stream",
          "name": "stdout",
          "text": [
            "Comenzando entrenamiento de red neuronal...\n",
            "¡Modelo entrenado satisfactoriamente!\n"
          ]
        }
      ]
    },
    {
      "cell_type": "code",
      "source": [
        " # Usando la librería MATPLOTLIB, se aprecia que las 2000 repeticiones no eran necesarias, sólo bastaba con 600 aprox.\n",
        " plt.xlabel(\"# Epoca\")\n",
        " plt.ylabel(\"Magnitud de pérdida\")\n",
        " plt.plot(historial.history[\"loss\"])"
      ],
      "metadata": {
        "colab": {
          "base_uri": "https://localhost:8080/",
          "height": 296
        },
        "id": "HTTCvYuN8MMS",
        "outputId": "f1129411-cb1c-433a-88b4-6937ce045900"
      },
      "execution_count": 110,
      "outputs": [
        {
          "output_type": "execute_result",
          "data": {
            "text/plain": [
              "[<matplotlib.lines.Line2D at 0x7f6fbf01e610>]"
            ]
          },
          "metadata": {},
          "execution_count": 110
        },
        {
          "output_type": "display_data",
          "data": {
            "text/plain": [
              "<Figure size 432x288 with 1 Axes>"
            ],
            "image/png": "[encoded data removed]"
          },
          "metadata": {
            "needs_background": "light"
          }
        }
      ]
    },
    {
      "cell_type": "code",
      "source": [
        "# Una vez entrenada la red neuronal con los datos históricos, se realiza una predicción para el dato dado.\n",
        "# El valor de la variable RESULTADO, corresponde a la dosis semanal en miligramos (mg) para el paciente, el que debe ser dividido en 7 días.\n",
        "print(\"Se realiza una predicción considerando los datos históricos del paciente y la dosis semanal suministrada en cada toma de muestra sanguinea\")\n",
        "resultado = modelo.predict([3.26])\n",
        "print(\"El resultado es para el INR indicado es de \" + str(resultado) + \"dosis semanal, la que debe ser dividida en 7 días.\")"
      ],
      "metadata": {
        "colab": {
          "base_uri": "https://localhost:8080/"
        },
        "id": "JeMBSGDv8vm5",
        "outputId": "baca52a9-38ef-4a9b-97ff-386f77bd8e06"
      },
      "execution_count": 111,
      "outputs": [
        {
          "output_type": "stream",
          "name": "stdout",
          "text": [
            "Se realiza una predicción considerando los datos históricos del paciente y la dosis semanal suministrada en cada toma de muestra sanguinea\n",
            "El resultado es para el INR indicado es de [[10.655775]]dosis semanal, la que debe ser dividida en 7 días.\n"
          ]
        }
      ]
    },
    {
      "cell_type": "markdown",
      "source": [
        "CONCLUSIÓN\n",
        "\n",
        "---\n",
        "Se realiza una predicción para un INR de 3.26, cuyo resultado obtenido a través de la red neuronal entrenada es de 10,65mg/semanal, aproximadamente 1.52mg/diarios. El modelo debe validarse probando con los datos históricos de otro paciente sometido a tratamiento anticoagulante (TACO). Para el entrenamiento de la red neuronal, se usaron 18 registros, por lo que para una mayor precisión, se sugiere entrenar con una mayor cantidad de datos."
      ],
      "metadata": {
        "id": "kp7NUvI_31Gy"
      }
    }
  ]
}